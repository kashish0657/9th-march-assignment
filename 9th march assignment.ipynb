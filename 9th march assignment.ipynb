{
 "cells": [
  {
   "cell_type": "markdown",
   "id": "255472f1-856d-454c-a731-ac23d4ce723c",
   "metadata": {},
   "source": [
    "## 9th march assignment"
   ]
  },
  {
   "cell_type": "code",
   "execution_count": null,
   "id": "e9e424ff-3058-4917-a841-46c5bc6dd33c",
   "metadata": {},
   "outputs": [],
   "source": [
    "1:ans:-\n",
    "        \n",
    "    Probability Mass Function (PMF):\n",
    "The PMF is used to describe the probability distribution of a discrete random variable. It gives the probability \n",
    "of each possible outcome of the random variable. In other words, it assigns probabilities to specific values of the\n",
    "random variable.\n",
    "\n",
    "Probability Density Function (PDF):\n",
    "The PDF is used to describe the probability distribution of a continuous random variable.\n",
    "Unlike the PMF, the PDF does not provide the probability of a specific outcome but instead gives\n",
    "the relative likelihood of different outcomes within a range.\n",
    "\n"
   ]
  },
  {
   "cell_type": "code",
   "execution_count": null,
   "id": "4ee693b6-a547-4873-83b8-7b063c4b60db",
   "metadata": {},
   "outputs": [],
   "source": [
    "2:ans:-\n",
    "\n",
    "The cumulative density function (CDF) is a concept in probability theory and statistics. It is also\n",
    "sometimes referred to as the cumulative distribution function. The CDF is a mathematical function that \n",
    "describes the probability distribution of a random variable.\n",
    "\n",
    "        The CDF is useful in various statistical calculations and analyses. Some key applications include:\n",
    "\n",
    "1 : Determining probabilities: The CDF allows us to calculate the probability of observing values less than or \n",
    "    equal to a given value, which is useful for making inferences and predictions.\n",
    "\n",
    "2 : Estimating percentiles: By inverting the CDF, we can find the value below which a certain percentage of the\n",
    "    distribution falls. For example, the 90th percentile corresponds to the value below which 90% of the data lies.\n",
    "\n",
    "3 : Hypothesis testing: The CDF is often used in hypothesis testing to evaluate the likelihood of obtaining a particular \n",
    "    sample result under a specific hypothesis.\n",
    "\n",
    "4 : Generating random numbers: The CDF can be used to generate random numbers from a specific distribution.\n",
    "    By selecting a random number between 0 and 1 and mapping it to the inverse CDF, we can generate random values\n",
    "    that follow the desired distribution.\n",
    "    "
   ]
  },
  {
   "cell_type": "code",
   "execution_count": null,
   "id": "761b9a0a-a066-400c-8339-c138463d7b97",
   "metadata": {},
   "outputs": [],
   "source": [
    "4:ans:- The normal distribution, also known as the Gaussian distribution or bell curve, is a fundamental \n",
    "        concept in statistics and probability theory. It plays a crucial role in various fields and has significant \n",
    "        importance due to its unique properties.\n",
    "        \n",
    "        Real-Life Examples:\n",
    "\n",
    "Heights of individuals in a population tend to follow a normal distribution, with most people clustered\n",
    "around the average height.\n",
    "\n",
    "IQ scores are often assumed to be normally distributed, with the majority of people falling near the average IQ score.\n",
    "\n",
    "The distribution of errors in scientific experiments or laboratory measurements is often approximated by a normal distribution.\n",
    "\n",
    "In financial markets, stock returns are often assumed to be normally distributed when estimating risks and constructing \n",
    "investment portfolios.\n",
    "\n",
    "In sports, performance metrics such as batting averages in baseball or free-throw percentages in basketball often \n",
    "exhibit a normal distribution.\n",
    "\n",
    "Test scores in large-scale educational assessments, such as college entrance exams, are frequently modeled using the\n",
    "normal distribution."
   ]
  },
  {
   "cell_type": "code",
   "execution_count": null,
   "id": "03c0a66c-325f-4665-b5b8-ba08a8df750b",
   "metadata": {},
   "outputs": [],
   "source": [
    "5:ans:- \n",
    "\n",
    "The Bernoulli distribution is a discrete probability distribution that models the outcomes of a binary \n",
    "or yes/no experiment. It represents a random variable that can take only two possible outcomes, typically \n",
    "labeled as success (usually denoted as 1) and failure (usually denoted as 0). The distribution is characterized \n",
    "by a single parameter, often referred to as p, which represents the probability of success.\n",
    "\n",
    "difference :-\n",
    "\n",
    " The Bernoulli distribution models a single trial with two possible outcomes, while the binomial distribution \n",
    "    models the number of successes in a fixed number of independent Bernoulli trials. The binomial distribution\n",
    "    extends the Bernoulli distribution to handle multiple trials and allows us to calculate the probability of\n",
    "    different numbers of successes.\n",
    "    "
   ]
  },
  {
   "cell_type": "code",
   "execution_count": null,
   "id": "7ded6c87-d4ed-44a5-a0bf-f0bf9078cb1c",
   "metadata": {},
   "outputs": [],
   "source": [
    "7:ans:-\n",
    "\n",
    "A uniform distribution, also known as a rectangular distribution, is a probability distribution in which \n",
    "all possible outcomes are equally likely. In other words, it is a distribution where the probability of an\n",
    "event occurring within a certain range is constant.\n"
   ]
  },
  {
   "cell_type": "code",
   "execution_count": null,
   "id": "88a60885-2f1b-4cb8-9687-a349c66c1b08",
   "metadata": {},
   "outputs": [],
   "source": [
    "8:ans:-\n",
    "\n",
    "The z-score, also known as the standard score, is a statistical measure that represents the number\n",
    "of standard deviations an individual data point is from the mean of a dataset. It is used to standardize\n",
    "and compare values from different distributions.\n",
    "\n",
    "Importance :-\n",
    "\n",
    "The importance of the z-score lies in its ability to provide standardized values that can be used to compare\n",
    "and analyze data from different distributions. \n"
   ]
  },
  {
   "cell_type": "code",
   "execution_count": null,
   "id": "77b87db1-c91d-4359-9f80-7e97f18dcfa6",
   "metadata": {},
   "outputs": [],
   "source": [
    "9:ans:-\n",
    "\n",
    "The Central Limit Theorem (CLT) is a fundamental concept in statistics and probability theory.\n",
    "It states that the sum or average of a large number of independent and identically distributed (i.i.d.) \n",
    "random variables will approximately follow a normal distribution, regardless of the shape of the original distribution.\n",
    "\n",
    "Significance :-\n",
    "\n",
    "The significance of the Central Limit Theorem lies in its wide-ranging applications. Some key points regarding its\n",
    "significance are:\n",
    "\n",
    "Approximation of Real-World Phenomena: Many natural phenomena and measurement errors tend to follow a normal distribution\n",
    "The Central Limit Theorem allows us to approximate these distributions even if the original distribution is unknown or complex.\n",
    "\n",
    "Statistical Inference: The Central Limit Theorem forms the basis for many statistical techniques. It allows us to make\n",
    "inferences about the population parameters (e.g., mean, variance) based on sample data. For example, we can use the \n",
    "sample mean to estimate the population mean.\n",
    "\n",
    "Hypothesis Testing: The Central Limit Theorem is crucial in hypothesis testing. It enables the use of parametric tests, \n",
    "such as t-tests and z-tests, which assume a normal distribution. By applying these tests, we can determine whether observed\n",
    "differences between groups or variables are statistically significant."
   ]
  },
  {
   "cell_type": "code",
   "execution_count": null,
   "id": "7a957900-5ba4-4a03-b928-6c1525309258",
   "metadata": {},
   "outputs": [],
   "source": [
    "10:ans:-\n",
    "\n",
    "The central limit theorem (CLT) makes several assumptions, which are as follows:\n",
    "\n",
    "Independent and Identically Distributed (IID) Random Variables: The underlying data should consist of a collection\n",
    "of random variables, each of which is independent of the others and is drawn from the same probability distribution.\n",
    "This assumption ensures that the observations are not influenced by each other and that they follow the same underlying distribution.\n",
    "\n",
    "Finite Mean and Variance: The random variables should have a finite mean (μ) and a finite variance (σ^2). This assumption ensures that the average of the random variables is well-defined and that the variance is not excessively large.\n",
    "\n",
    "Random Sampling: The observations should be obtained through a random sampling process. This means that each observation is selected independently and randomly from the population.\n",
    "\n",
    "Sufficiently Large Sample Size: The sample size should be sufficiently large. While there is no strict threshold, a commonly cited guideline is that the sample size should be at least 30. Larger sample sizes generally lead to better approximations of the normal distribution.\n",
    "\n"
   ]
  }
 ],
 "metadata": {
  "kernelspec": {
   "display_name": "Python 3 (ipykernel)",
   "language": "python",
   "name": "python3"
  },
  "language_info": {
   "codemirror_mode": {
    "name": "ipython",
    "version": 3
   },
   "file_extension": ".py",
   "mimetype": "text/x-python",
   "name": "python",
   "nbconvert_exporter": "python",
   "pygments_lexer": "ipython3",
   "version": "3.10.8"
  }
 },
 "nbformat": 4,
 "nbformat_minor": 5
}
